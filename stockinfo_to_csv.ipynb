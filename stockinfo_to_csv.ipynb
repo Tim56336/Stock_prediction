{
 "cells": [
  {
   "cell_type": "code",
   "execution_count": 42,
   "metadata": {},
   "outputs": [],
   "source": [
    "import pandas as pd\n",
    "import requests\n",
    "from datetime import datetime\n",
    "import json\n",
    "import numpy as np\n"
   ]
  },
  {
   "cell_type": "code",
   "execution_count": 44,
   "metadata": {},
   "outputs": [],
   "source": [
    "\n",
    "def Get_Stock_Informations(stock_code, start_date, stop_date):\n",
    "    information_url = ('http://140.116.86.242:8081/stock/' +\n",
    "                       'api/v1/api_get_stock_info_from_date_json/' +\n",
    "                       str(stock_code) + '/' +\n",
    "                       str(start_date) + '/' +\n",
    "                       str(stop_date)\n",
    "                       )\n",
    "    result = requests.get(information_url).json()\n",
    "    if(result['result'] == 'success'):\n",
    "        return result['data']\n",
    "    return dict([])\n",
    "\n",
    "def rmse(y_true, y_pred):\n",
    "    # 計算預測誤差\n",
    "    errors = y_pred - y_true\n",
    "    # 計算均方誤差\n",
    "    mse = np.mean(errors**2)\n",
    "    # 計算 RMSE\n",
    "    rmse = np.sqrt(mse)\n",
    "    return rmse\n"
   ]
  },
  {
   "cell_type": "code",
   "execution_count": 31,
   "metadata": {},
   "outputs": [
    {
     "name": "stdout",
     "output_type": "stream",
     "text": [
      "          date  high  low  close  open\n",
      "47  1704153600   593  589    593   590\n",
      "46  1704240000   585  576    578   584\n",
      "45  1704326400   581  577    580   580\n",
      "44  1704412800   580  574    576   578\n",
      "43  1704672000   585  579    583   582\n",
      "42  1704758400   589  583    586   588\n",
      "41  1704844800   586  580    584   581\n",
      "40  1704931200   589  583    586   586\n",
      "39  1705017600   588  581    584   581\n",
      "38  1705276800   590  585    586   590\n",
      "37  1705363200   588  579    580   581\n",
      "36  1705449600   584  578    581   583\n",
      "35  1705536000   589  585    588   586\n",
      "34  1705622400   627  614    626   625\n",
      "33  1705881600   633  623    626   633\n",
      "32  1705968000   629  622    628   629\n",
      "31  1706054400   630  624    627   628\n",
      "30  1706140800   642  633    642   635\n",
      "29  1706227200   646  639    644   644\n",
      "28  1706486400   648  644    648   646\n",
      "27  1706572800   647  642    642   642\n",
      "26  1706659200   637  626    628   634\n",
      "25  1707955200   709  693    697   709\n",
      "24  1708041600   699  683    683   697\n",
      "23  1708300800   682  674    678   674\n",
      "22  1708387200   688  675    687   675\n",
      "21  1708473600   683  678    681   678\n",
      "20  1708560000   695  685    692   695\n",
      "19  1708646400   703  696    697   701\n",
      "18  1708905600   700  695    698   700\n",
      "17  1708992000   701  691    698   700\n",
      "16  1709164800   698  688    690   691\n",
      "15  1709251200   697  688    689   697\n",
      "14  1709510400   725  711    725   714\n",
      "13  1709596800   738  728    730   735\n",
      "12  1709683200   738  717    735   718\n",
      "11  1709769600   769  754    760   755\n",
      "10  1709856000   796  772    784   795\n",
      "9   1710115200   778  761    766   768\n",
      "8   1710201600   771  754    770   757\n",
      "7   1710288000   785  777    779   785\n",
      "6   1710374400   785  770    784   779\n",
      "5   1710460800   777  753    753   771\n",
      "4   1710720000   765  754    764   754\n",
      "3   1710806400   765  755    762   758\n",
      "2   1710892800   769  752    758   764\n",
      "1   1710979200   784  772    784   773\n",
      "0   1711065600   789  775    785   788\n"
     ]
    }
   ],
   "source": [
    "#讀取股票資訊\n",
    "stock_code, start_date, stop_date = 2330, 20240101, 20240322\n",
    "data = Get_Stock_Informations(stock_code, start_date, stop_date)\n",
    "\n",
    "# 指定 JSON 檔案的資料結構\n",
    "df = pd.DataFrame(data)\n",
    "df.sort_values(\"date\", inplace=True)\n",
    "\n",
    "cols = 'capacity','turnover','change','transaction_volume','stock_code_id'\n",
    "for col in cols:    \n",
    "    df.drop(col, axis=1, inplace=True)\n",
    "    \n",
    "# df.drop('stock_code_id', axis=1, inplace=True)\n",
    "# print(df.shape)\n",
    "print(df.to_string())\n",
    "# df.to_csv(r'C:\\Users\\tim56\\OneDrive\\Documents\\py\\stock_prediction\\2330_0322.csv', index=False)"
   ]
  },
  {
   "cell_type": "code",
   "execution_count": 50,
   "metadata": {},
   "outputs": [
    {
     "name": "stdout",
     "output_type": "stream",
     "text": [
      "          date  high  low  close  open\n",
      "37  1705363200   588  579    580   581\n",
      "36  1705449600   584  578    581   583\n",
      "35  1705536000   589  585    588   586\n",
      "34  1705622400   627  614    626   625\n",
      "33  1705881600   633  623    626   633\n",
      "32  1705968000   629  622    628   629\n",
      "31  1706054400   630  624    627   628\n",
      "30  1706140800   642  633    642   635\n",
      "29  1706227200   646  639    644   644\n",
      "28  1706486400   648  644    648   646\n",
      "27  1706572800   647  642    642   642\n",
      "26  1706659200   637  626    628   634\n",
      "25  1707955200   709  693    697   709\n",
      "24  1708041600   699  683    683   697\n",
      "23  1708300800   682  674    678   674\n",
      "22  1708387200   688  675    687   675\n",
      "21  1708473600   683  678    681   678\n",
      "20  1708560000   695  685    692   695\n",
      "19  1708646400   703  696    697   701\n",
      "18  1708905600   700  695    698   700\n",
      "17  1708992000   701  691    698   700\n",
      "16  1709164800   698  688    690   691\n",
      "15  1709251200   697  688    689   697\n",
      "14  1709510400   725  711    725   714\n",
      "13  1709596800   738  728    730   735\n",
      "12  1709683200   738  717    735   718\n",
      "11  1709769600   769  754    760   755\n",
      "10  1709856000   796  772    784   795\n",
      "9   1710115200   778  761    766   768\n",
      "8   1710201600   771  754    770   757\n",
      "         date  high  low  close  open\n",
      "7  1710288000   785  777    779   785\n"
     ]
    }
   ],
   "source": [
    "import csv\n",
    "#選定30筆資料\n",
    "# print(df.shape)\n",
    "start_value = 10\n",
    "data_30_days = df.iloc[start_value:(start_value+30),:]\n",
    "ground_value = df.iloc[(start_value+30):(start_value+31),:]\n",
    "data_30_days.drop('date', axis = 1 , inplace=True)\n",
    "ground_value.drop('date', axis = 1 , inplace=True)\n",
    "print(data_30_days.to_string())\n",
    "print(ground_value.to_string())\n",
    "\n",
    "\n",
    "\n"
   ]
  },
  {
   "cell_type": "code",
   "execution_count": 51,
   "metadata": {},
   "outputs": [
    {
     "name": "stdout",
     "output_type": "stream",
     "text": [
      "(4,) (4,)\n",
      "[[[765.05368619 754.88963991 762.20898854 761.49260305]]]\n",
      "[[785 777 779 785]]\n"
     ]
    },
    {
     "name": "stderr",
     "output_type": "stream",
     "text": [
      "C:\\Users\\tim56\\AppData\\Local\\Temp\\ipykernel_24544\\641834070.py:26: SettingWithCopyWarning: \n",
      "A value is trying to be set on a copy of a slice from a DataFrame\n",
      "\n",
      "See the caveats in the documentation: https://pandas.pydata.org/pandas-docs/stable/user_guide/indexing.html#returning-a-view-versus-a-copy\n",
      "  ground_value.drop('date', axis=1, inplace=True)\n"
     ]
    }
   ],
   "source": [
    "#計算mean 及 std\n",
    "import matplotlib.pyplot as plt\n",
    "import os\n",
    "import pandas as pd\n",
    "import numpy as np\n",
    "# path = r'C:\\Users\\tim56\\OneDrive\\Documents\\py\\stock_prediction\\Nonstationary_Transformers\\data\\stock\\pred.csv'\n",
    "# df_raw = pd.read_csv(path)\n",
    "      \n",
    "cols = list(data_30_days.columns)\n",
    "cols.remove('date')\n",
    "# cols.remove('capacity')\n",
    "# cols.remove('turnover')\n",
    "# cols.remove('change')\n",
    "# cols.remove('transaction_volume')\n",
    "df_raw = data_30_days[cols]\n",
    "data_np = df_raw.to_numpy()\n",
    "mean = np.mean(data_np, axis=0)\n",
    "std = np.std(data_np, axis=0)\n",
    "print(mean.shape, std.shape)\n",
    "\n",
    "pre_path = r'C:\\Users\\tim56\\OneDrive\\Documents\\py\\stock_prediction\\Nonstationary_Transformers\\results\\Stock2330_ns_Transformer_custom_ftM_sl30_ll0_pl1_dm512_nh8_el2_dl1_df2048_fc3_ebtimeF_dtTrue_stock2330_0\\real_prediction.npy'\n",
    "pred = np.load(pre_path)\n",
    "pred = pred * std + mean\n",
    "print(pred)\n",
    "\n",
    "ground_value.drop('date', axis=1, inplace=True)\n",
    "print(ground_value.to_numpy())"
   ]
  }
 ],
 "metadata": {
  "kernelspec": {
   "display_name": "stock",
   "language": "python",
   "name": "python3"
  },
  "language_info": {
   "codemirror_mode": {
    "name": "ipython",
    "version": 3
   },
   "file_extension": ".py",
   "mimetype": "text/x-python",
   "name": "python",
   "nbconvert_exporter": "python",
   "pygments_lexer": "ipython3",
   "version": "3.8.18"
  }
 },
 "nbformat": 4,
 "nbformat_minor": 2
}
